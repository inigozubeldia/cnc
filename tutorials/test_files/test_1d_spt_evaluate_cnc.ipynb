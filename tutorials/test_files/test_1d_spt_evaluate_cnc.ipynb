{
 "cells": [
  {
   "cell_type": "code",
   "execution_count": 1,
   "metadata": {},
   "outputs": [],
   "source": [
    "%matplotlib inline\n",
    "import matplotlib\n",
    "import matplotlib.pyplot as plt\n",
    "import numpy as np\n",
    "import os\n",
    "import subprocess\n",
    "import yaml  "
   ]
  },
  {
   "cell_type": "code",
   "execution_count": 2,
   "metadata": {},
   "outputs": [
    {
     "ename": "NameError",
     "evalue": "name 'Dict_yaml' is not defined",
     "output_type": "error",
     "traceback": [
      "\u001b[0;31m---------------------------------------------------------------------------\u001b[0m",
      "\u001b[0;31mNameError\u001b[0m                                 Traceback (most recent call last)",
      "Cell \u001b[0;32mIn [2], line 1\u001b[0m\n\u001b[0;32m----> 1\u001b[0m \u001b[43mDict_yaml\u001b[49m\n",
      "\u001b[0;31mNameError\u001b[0m: name 'Dict_yaml' is not defined"
     ]
    }
   ],
   "source": [
    "Dict_yaml"
   ]
  },
  {
   "cell_type": "code",
   "execution_count": 3,
   "metadata": {},
   "outputs": [
    {
     "ename": "KeyboardInterrupt",
     "evalue": "",
     "output_type": "error",
     "traceback": [
      "\u001b[0;31m---------------------------------------------------------------------------\u001b[0m",
      "\u001b[0;31mKeyboardInterrupt\u001b[0m                         Traceback (most recent call last)",
      "File \u001b[0;32m<timed exec>:96\u001b[0m\n",
      "File \u001b[0;32m~/opt/miniconda3/lib/python3.9/subprocess.py:507\u001b[0m, in \u001b[0;36mrun\u001b[0;34m(input, capture_output, timeout, check, *popenargs, **kwargs)\u001b[0m\n\u001b[1;32m    505\u001b[0m \u001b[38;5;28;01mwith\u001b[39;00m Popen(\u001b[38;5;241m*\u001b[39mpopenargs, \u001b[38;5;241m*\u001b[39m\u001b[38;5;241m*\u001b[39mkwargs) \u001b[38;5;28;01mas\u001b[39;00m process:\n\u001b[1;32m    506\u001b[0m     \u001b[38;5;28;01mtry\u001b[39;00m:\n\u001b[0;32m--> 507\u001b[0m         stdout, stderr \u001b[38;5;241m=\u001b[39m \u001b[43mprocess\u001b[49m\u001b[38;5;241;43m.\u001b[39;49m\u001b[43mcommunicate\u001b[49m\u001b[43m(\u001b[49m\u001b[38;5;28;43minput\u001b[39;49m\u001b[43m,\u001b[49m\u001b[43m \u001b[49m\u001b[43mtimeout\u001b[49m\u001b[38;5;241;43m=\u001b[39;49m\u001b[43mtimeout\u001b[49m\u001b[43m)\u001b[49m\n\u001b[1;32m    508\u001b[0m     \u001b[38;5;28;01mexcept\u001b[39;00m TimeoutExpired \u001b[38;5;28;01mas\u001b[39;00m exc:\n\u001b[1;32m    509\u001b[0m         process\u001b[38;5;241m.\u001b[39mkill()\n",
      "File \u001b[0;32m~/opt/miniconda3/lib/python3.9/subprocess.py:1134\u001b[0m, in \u001b[0;36mPopen.communicate\u001b[0;34m(self, input, timeout)\u001b[0m\n\u001b[1;32m   1131\u001b[0m     endtime \u001b[38;5;241m=\u001b[39m \u001b[38;5;28;01mNone\u001b[39;00m\n\u001b[1;32m   1133\u001b[0m \u001b[38;5;28;01mtry\u001b[39;00m:\n\u001b[0;32m-> 1134\u001b[0m     stdout, stderr \u001b[38;5;241m=\u001b[39m \u001b[38;5;28;43mself\u001b[39;49m\u001b[38;5;241;43m.\u001b[39;49m\u001b[43m_communicate\u001b[49m\u001b[43m(\u001b[49m\u001b[38;5;28;43minput\u001b[39;49m\u001b[43m,\u001b[49m\u001b[43m \u001b[49m\u001b[43mendtime\u001b[49m\u001b[43m,\u001b[49m\u001b[43m \u001b[49m\u001b[43mtimeout\u001b[49m\u001b[43m)\u001b[49m\n\u001b[1;32m   1135\u001b[0m \u001b[38;5;28;01mexcept\u001b[39;00m \u001b[38;5;167;01mKeyboardInterrupt\u001b[39;00m:\n\u001b[1;32m   1136\u001b[0m     \u001b[38;5;66;03m# https://bugs.python.org/issue25942\u001b[39;00m\n\u001b[1;32m   1137\u001b[0m     \u001b[38;5;66;03m# See the detailed comment in .wait().\u001b[39;00m\n\u001b[1;32m   1138\u001b[0m     \u001b[38;5;28;01mif\u001b[39;00m timeout \u001b[38;5;129;01mis\u001b[39;00m \u001b[38;5;129;01mnot\u001b[39;00m \u001b[38;5;28;01mNone\u001b[39;00m:\n",
      "File \u001b[0;32m~/opt/miniconda3/lib/python3.9/subprocess.py:1979\u001b[0m, in \u001b[0;36mPopen._communicate\u001b[0;34m(self, input, endtime, orig_timeout)\u001b[0m\n\u001b[1;32m   1972\u001b[0m     \u001b[38;5;28mself\u001b[39m\u001b[38;5;241m.\u001b[39m_check_timeout(endtime, orig_timeout,\n\u001b[1;32m   1973\u001b[0m                         stdout, stderr,\n\u001b[1;32m   1974\u001b[0m                         skip_check_and_raise\u001b[38;5;241m=\u001b[39m\u001b[38;5;28;01mTrue\u001b[39;00m)\n\u001b[1;32m   1975\u001b[0m     \u001b[38;5;28;01mraise\u001b[39;00m \u001b[38;5;167;01mRuntimeError\u001b[39;00m(  \u001b[38;5;66;03m# Impossible :)\u001b[39;00m\n\u001b[1;32m   1976\u001b[0m         \u001b[38;5;124m'\u001b[39m\u001b[38;5;124m_check_timeout(..., skip_check_and_raise=True) \u001b[39m\u001b[38;5;124m'\u001b[39m\n\u001b[1;32m   1977\u001b[0m         \u001b[38;5;124m'\u001b[39m\u001b[38;5;124mfailed to raise TimeoutExpired.\u001b[39m\u001b[38;5;124m'\u001b[39m)\n\u001b[0;32m-> 1979\u001b[0m ready \u001b[38;5;241m=\u001b[39m \u001b[43mselector\u001b[49m\u001b[38;5;241;43m.\u001b[39;49m\u001b[43mselect\u001b[49m\u001b[43m(\u001b[49m\u001b[43mtimeout\u001b[49m\u001b[43m)\u001b[49m\n\u001b[1;32m   1980\u001b[0m \u001b[38;5;28mself\u001b[39m\u001b[38;5;241m.\u001b[39m_check_timeout(endtime, orig_timeout, stdout, stderr)\n\u001b[1;32m   1982\u001b[0m \u001b[38;5;66;03m# XXX Rewrite these to use non-blocking I/O on the file\u001b[39;00m\n\u001b[1;32m   1983\u001b[0m \u001b[38;5;66;03m# objects; they are no longer using C stdio!\u001b[39;00m\n",
      "File \u001b[0;32m~/opt/miniconda3/lib/python3.9/selectors.py:416\u001b[0m, in \u001b[0;36m_PollLikeSelector.select\u001b[0;34m(self, timeout)\u001b[0m\n\u001b[1;32m    414\u001b[0m ready \u001b[38;5;241m=\u001b[39m []\n\u001b[1;32m    415\u001b[0m \u001b[38;5;28;01mtry\u001b[39;00m:\n\u001b[0;32m--> 416\u001b[0m     fd_event_list \u001b[38;5;241m=\u001b[39m \u001b[38;5;28;43mself\u001b[39;49m\u001b[38;5;241;43m.\u001b[39;49m\u001b[43m_selector\u001b[49m\u001b[38;5;241;43m.\u001b[39;49m\u001b[43mpoll\u001b[49m\u001b[43m(\u001b[49m\u001b[43mtimeout\u001b[49m\u001b[43m)\u001b[49m\n\u001b[1;32m    417\u001b[0m \u001b[38;5;28;01mexcept\u001b[39;00m \u001b[38;5;167;01mInterruptedError\u001b[39;00m:\n\u001b[1;32m    418\u001b[0m     \u001b[38;5;28;01mreturn\u001b[39;00m ready\n",
      "\u001b[0;31mKeyboardInterrupt\u001b[0m: "
     ]
    }
   ],
   "source": [
    "%%time\n",
    "path_to_yaml = \"/Users/boris/Work/CLASS-SZ/SO-SZ/cnc/mcmcs/cobaya/input_files/cobaya_cnc_spt_unbinned_WLYxmasscal_classy_sz_evaluate_as\"\n",
    "path_to_output = \"/Users/boris/Work/CLASS-SZ/SO-SZ/cnc/mcmcs/cobaya/chains/cnc_unbinned_cluster_counts_spt_unbinned_WLYxmasscal_evaluate_5sept23_as.1.txt\"\n",
    "\n",
    "Dict_yaml = yaml.safe_load(open(path_to_yaml+\".yaml\"))\n",
    "\n",
    "\n",
    "# param_to_vary = \"A_s\"\n",
    "# p_min = 1.8e-9\n",
    "# p_max = 2.8e-9\n",
    "# p_ar = np.linspace(p_min,p_max,2)\n",
    "\n",
    "# param_to_vary = \"A_sz\"\n",
    "# p_min = 1\n",
    "# p_max = 10.\n",
    "# p_ar = np.linspace(p_min,p_max,5)\n",
    "\n",
    "# param_to_vary = \"B_sz\"\n",
    "# p_min = 1\n",
    "# p_max = 2.5\n",
    "# p_ar = np.linspace(p_min,p_max,5)\n",
    "\n",
    "# param_to_vary = \"C_sz\"\n",
    "# p_min = -1\n",
    "# p_max = 2\n",
    "# p_ar = np.linspace(p_min,p_max,5)\n",
    "\n",
    "# param_to_vary = \"A_x\"\n",
    "# p_min = 3.\n",
    "# p_max = 10.\n",
    "# p_ar = np.linspace(p_min,p_max,5)\n",
    "\n",
    "# param_to_vary = \"B_x\"\n",
    "# p_min = .3\n",
    "# p_max = .9\n",
    "# p_ar = np.linspace(p_min,p_max,5)\n",
    "\n",
    "\n",
    "# param_to_vary = \"C_x\"\n",
    "# p_min = -1\n",
    "# p_max = 0.5\n",
    "# p_ar = np.linspace(p_min,p_max,5)\n",
    "\n",
    "# param_to_vary = \"sigma_lnYx\"\n",
    "# p_min = 0.01\n",
    "# p_max = 0.5\n",
    "# p_ar = np.linspace(p_min,p_max,5)\n",
    "\n",
    "# param_to_vary = \"dlnMg_dlnr\"\n",
    "# p_min = 0.4001\n",
    "# p_max = 1.799\n",
    "# p_ar = np.linspace(p_min,p_max,5)\n",
    "\n",
    "\n",
    "# param_to_vary = \"WLbias\"\n",
    "# p_min = -3.\n",
    "# p_max = 3.\n",
    "# p_ar = np.linspace(p_min,p_max,5)\n",
    "\n",
    "# param_to_vary = \"WLscatter\"\n",
    "# p_min = -3.\n",
    "# p_max = 3.\n",
    "# p_ar = np.linspace(p_min,p_max,5)\n",
    "\n",
    "# param_to_vary = \"HSTbias\"\n",
    "# p_min = -3.\n",
    "# p_max = 3.\n",
    "# p_ar = np.linspace(p_min,p_max,5)\n",
    "\n",
    "\n",
    "param_to_vary = \"HSTscatterLSS\"\n",
    "p_min = -3.\n",
    "p_max = 3.\n",
    "p_ar = np.linspace(p_min,p_max,2)\n",
    "\n",
    "\n",
    "# param_to_vary = \"corr_xi_WL\"\n",
    "# p_min = -0.5\n",
    "# p_max = 0.5\n",
    "# p_ar = np.linspace(p_min,p_max,2)\n",
    "\n",
    "mlnp_ar = []\n",
    "ntot_ar = []\n",
    "ntotfields_ar = []\n",
    "for p in p_ar: \n",
    "\n",
    "    Dict_yaml['sampler']['evaluate']['override'][param_to_vary] = float(p)\n",
    "    path_to_yaml_tmp = path_to_yaml+'_tmp.yaml'\n",
    "    with open(path_to_yaml_tmp,'w') as outfile:\n",
    "        yaml.dump(Dict_yaml, outfile, default_flow_style=False)\n",
    "\n",
    "\n",
    "    str_cmd_subprocess = [\"cobaya-run\",\n",
    "                          path_to_yaml_tmp,\n",
    "                          \"-f\"]\n",
    "\n",
    "    code_output = subprocess.run(str_cmd_subprocess,\n",
    "                                 capture_output=True, \n",
    "                                 text=True)\n",
    "    r = np.loadtxt(path_to_output)\n",
    "    mlnp = r[::-1][0]/2.\n",
    "    mlnp_ar.append(mlnp)\n",
    "    ntotfields = []\n",
    "    for line in code_output.stdout.split('\\n'):\n",
    "        if 'Ntot =' in line:\n",
    "            ntot = float(line.split('=')[1])\n",
    "            ntot_ar.append(ntot)\n",
    "        for i in range(19): # there are 19 spt fields\n",
    "            if 'Ntotalfields %d='%i in line:\n",
    "                ntotfields.append(float(line.split('=')[1]))\n",
    "    ntotfields_ar.append(ntotfields)\n",
    "mlnp_ar = np.asarray(mlnp_ar)\n",
    "ntot_ar = np.asarray(ntot_ar)\n",
    "print(ntot_ar)\n",
    "np.savetxt('/Users/boris/Work/CLASS-SZ/SO-SZ/cnc/mcmcs/cobaya/chains/cnc1d'+param_to_vary+'.txt',np.c_[p_ar,mlnp_ar])"
   ]
  },
  {
   "cell_type": "code",
   "execution_count": 26,
   "metadata": {},
   "outputs": [
    {
     "data": {
      "text/plain": [
       "'/Users/boris/Work/CLASS-SZ/SO-SZ/cnc/mcmcs/cobaya/input_files/cobaya_cnc_spt_unbinned_WLYxmasscal_classy_sz_evaluate_as_tmp.yaml'"
      ]
     },
     "execution_count": 26,
     "metadata": {},
     "output_type": "execute_result"
    }
   ],
   "source": [
    "path_to_yaml_tmp"
   ]
  },
  {
   "cell_type": "code",
   "execution_count": 34,
   "metadata": {
    "collapsed": true,
    "jupyter": {
     "outputs_hidden": true
    },
    "tags": []
   },
   "outputs": [
    {
     "name": "stdout",
     "output_type": "stream",
     "text": [
      "[output] Output to be read-from/written-into folder '/Users/boris/Work/CLASS-SZ/SO-SZ/cnc/mcmcs/cobaya/chains', with prefix 'cnc_unbinned_cluster_counts_spt_unbinned_WLYxmasscal_evaluate_5sept23_as'\n",
      "[output] Found existing info files with the requested output prefix: '/Users/boris/Work/CLASS-SZ/SO-SZ/cnc/mcmcs/cobaya/chains/cnc_unbinned_cluster_counts_spt_unbinned_WLYxmasscal_evaluate_5sept23_as'\n",
      "[output] Will delete previous products ('force' was requested).\n",
      "[absl] *WARNING* At this time, the v2.11+ optimizer `tf.keras.optimizers.Adam` runs slowly on M1/M2 Macs, please use the legacy Keras optimizer instead, located at `tf.keras.optimizers.legacy.Adam`.\n",
      "[absl] *WARNING* At this time, the v2.11+ optimizer `tf.keras.optimizers.Adam` runs slowly on M1/M2 Macs, please use the legacy Keras optimizer instead, located at `tf.keras.optimizers.legacy.Adam`.\n",
      "[prior] *WARNING* External prior 'Ob0h2_prior' loaded. Mind that it might not be normalized!\n",
      "[prior] *WARNING* External prior 'dlnMg_dlnr_prior' loaded. Mind that it might not be normalized!\n",
      "[prior] *WARNING* External prior 'hstbias_prior' loaded. Mind that it might not be normalized!\n",
      "[prior] *WARNING* External prior 'hstscatter_prior' loaded. Mind that it might not be normalized!\n",
      "[prior] *WARNING* External prior 'megacambias_prior' loaded. Mind that it might not be normalized!\n",
      "[prior] *WARNING* External prior 'megacamscatter_prior' loaded. Mind that it might not be normalized!\n",
      "[prior] *WARNING* External prior 'n_s_prior' loaded. Mind that it might not be normalized!\n",
      "[prior] *WARNING* External prior 'sigma_lnq_prior' loaded. Mind that it might not be normalized!\n",
      "[prior] *WARNING* External prior 'wlbias_prior' loaded. Mind that it might not be normalized!\n",
      "[prior] *WARNING* External prior 'wlscatter_prior' loaded. Mind that it might not be normalized!\n",
      "[tensorflow] *WARNING* Please fix your imports. Module tensorflow.python.training.tracking.data_structures has been moved to tensorflow.python.trackable.data_structures. The old module will be deleted in version 2.11.\n",
      ">>> computing class_sz ini\n",
      "classy_sz computed 0.8259640339763222\n",
      "[cnc.cnc_cobaya_theory.cnc] Initialized\n",
      "[evaluate] Initialized!\n",
      "[evaluate] Looking for a reference point with non-zero prior.\n",
      "[evaluate] Reference point:\n",
      "   A_s = 2.1e-09\n",
      "   A_sz = 5.5\n",
      "   A_x = 6.5\n",
      "   B_sz = 1.75\n",
      "   B_x = 0.6\n",
      "   C_sz = 0.5\n",
      "   C_x = -0.25\n",
      "   H0 = 67\n",
      "   HSTbias = 0.012\n",
      "   HSTscatterLSS = 0.0023\n",
      "   MegacamBias = 0.01\n",
      "   MegacamScatterLSS = 0.002\n",
      "   Ob0 = 0.0490087\n",
      "   Om0 = 0.28\n",
      "   WLbias = 0.03\n",
      "   WLscatter = 0.035\n",
      "   corr_Yx_WL = 0.02\n",
      "   corr_xi_WL = 0.12\n",
      "   corr_xi_Yx = 0.1\n",
      "   dlnMg_dlnr = 1.12\n",
      "   n_s = 0.97\n",
      "   sigma_lnYx = 0.01\n",
      "   sigma_lnq = 0.173\n",
      "[evaluate] Evaluating prior and likelihoods...\n",
      "[samplecollection] *ERROR* Got 0 values for the derived parameters. Should be 1.\n",
      "[exception handler] ---------------------------------------\n",
      "\n",
      "Traceback (most recent call last):\n",
      "  File \"/Users/boris/opt/miniconda3/bin/cobaya-run\", line 8, in <module>\n",
      "    sys.exit(run_script())\n",
      "  File \"/Users/boris/Work/CLASS-SZ/SO-SZ/cobaya_sz/cobaya/run.py\", line 198, in run_script\n",
      "    run(info, **arguments.__dict__)\n",
      "  File \"/Users/boris/Work/CLASS-SZ/SO-SZ/cobaya_sz/cobaya/run.py\", line 150, in run\n",
      "    sampler.run()\n",
      "  File \"/Users/boris/Work/CLASS-SZ/SO-SZ/cobaya_sz/cobaya/samplers/evaluate/evaluate.py\", line 68, in run\n",
      "    self.points.add(\n",
      "  File \"/Users/boris/Work/CLASS-SZ/SO-SZ/cobaya_sz/cobaya/collection.py\", line 353, in add\n",
      "    logposterior = self._check_before_adding(\n",
      "  File \"/Users/boris/Work/CLASS-SZ/SO-SZ/cobaya_sz/cobaya/collection.py\", line 378, in _check_before_adding\n",
      "    raise LoggedError(\n",
      "cobaya.log.LoggedError: Got 0 values for the derived parameters. Should be 1.\n",
      "-------------------------------------------------------------\n",
      "\n",
      "\n"
     ]
    }
   ],
   "source": [
    "for line in code_output.stdout.split('\\n'):\n",
    "    print(line)"
   ]
  },
  {
   "cell_type": "code",
   "execution_count": 4,
   "metadata": {},
   "outputs": [
    {
     "data": {
      "text/plain": [
       "([], [])"
      ]
     },
     "execution_count": 4,
     "metadata": {},
     "output_type": "execute_result"
    }
   ],
   "source": [
    "ntot_ar,mlnp_ar"
   ]
  },
  {
   "cell_type": "code",
   "execution_count": 5,
   "metadata": {},
   "outputs": [
    {
     "data": {
      "text/plain": [
       "['cobaya-run',\n",
       " '/Users/boris/Work/CLASS-SZ/SO-SZ/cnc/mcmcs/cobaya/input_files/cobaya_cnc_spt_unbinned_WLYxmasscal_classy_sz_evaluate_as_tmp.yaml',\n",
       " '-f']"
      ]
     },
     "execution_count": 5,
     "metadata": {},
     "output_type": "execute_result"
    }
   ],
   "source": [
    "str_cmd_subprocess"
   ]
  },
  {
   "cell_type": "code",
   "execution_count": 58,
   "metadata": {},
   "outputs": [
    {
     "data": {
      "text/plain": [
       "(array([227.38754078, 227.38754078]), array([561.91305, 561.91305]))"
      ]
     },
     "execution_count": 58,
     "metadata": {},
     "output_type": "execute_result"
    }
   ],
   "source": [
    "ntot_ar,mlnp_ar"
   ]
  },
  {
   "cell_type": "code",
   "execution_count": 126,
   "metadata": {},
   "outputs": [
    {
     "data": {
      "text/plain": [
       "[[9.4407,\n",
       "  12.5171,\n",
       "  15.9253,\n",
       "  22.3471,\n",
       "  14.8892,\n",
       "  16.1076,\n",
       "  12.8695,\n",
       "  14.1542,\n",
       "  12.9188,\n",
       "  7.5951,\n",
       "  7.2134,\n",
       "  15.4262,\n",
       "  6.252,\n",
       "  9.3876,\n",
       "  9.8996,\n",
       "  6.8243,\n",
       "  18.4644,\n",
       "  8.9031,\n",
       "  6.1569],\n",
       " [9.4407,\n",
       "  12.5171,\n",
       "  15.9253,\n",
       "  22.3471,\n",
       "  14.8892,\n",
       "  16.1076,\n",
       "  12.8695,\n",
       "  14.1542,\n",
       "  12.9188,\n",
       "  7.5951,\n",
       "  7.2134,\n",
       "  15.4262,\n",
       "  6.252,\n",
       "  9.3876,\n",
       "  9.8996,\n",
       "  6.8243,\n",
       "  18.4644,\n",
       "  8.9031,\n",
       "  6.1569]]"
      ]
     },
     "execution_count": 126,
     "metadata": {},
     "output_type": "execute_result"
    }
   ],
   "source": [
    "ntotfields_ar"
   ]
  },
  {
   "cell_type": "code",
   "execution_count": 7,
   "metadata": {},
   "outputs": [
    {
     "data": {
      "text/plain": [
       "[<matplotlib.lines.Line2D at 0x12f9e2400>]"
      ]
     },
     "execution_count": 7,
     "metadata": {},
     "output_type": "execute_result"
    },
    {
     "data": {
      "image/png": "[encoded data removed]",
      "text/plain": [
       "<Figure size 640x480 with 1 Axes>"
      ]
     },
     "metadata": {},
     "output_type": "display_data"
    }
   ],
   "source": [
    "plt.plot(p_ar,mlnp_ar,marker='o')"
   ]
  },
  {
   "cell_type": "code",
   "execution_count": null,
   "metadata": {},
   "outputs": [
    {
     "data": {
      "text/plain": [
       "[<matplotlib.lines.Line2D at 0x1652788b0>]"
      ]
     },
     "metadata": {},
     "output_type": "display_data"
    },
    {
     "data": {
      "image/png": "[encoded data removed]",
      "text/plain": [
       "<Figure size 640x480 with 1 Axes>"
      ]
     },
     "metadata": {},
     "output_type": "display_data"
    }
   ],
   "source": [
    "plt.plot(p_ar,mlnp_ar,marker='o')"
   ]
  },
  {
   "cell_type": "code",
   "execution_count": 17,
   "metadata": {},
   "outputs": [
    {
     "data": {
      "text/plain": [
       "array([278.180805, 129.90575 ])"
      ]
     },
     "execution_count": 17,
     "metadata": {},
     "output_type": "execute_result"
    }
   ],
   "source": [
    "mlnp_ar"
   ]
  },
  {
   "cell_type": "code",
   "execution_count": 48,
   "metadata": {},
   "outputs": [
    {
     "data": {
      "text/plain": [
       "<bound method rv_continuous.pdf of <scipy.stats._continuous_distns.norm_gen object at 0x17fdacf70>>"
      ]
     },
     "execution_count": 48,
     "metadata": {},
     "output_type": "execute_result"
    }
   ],
   "source": [
    "from scipy.stats import norm\n",
    "norm.pdf("
   ]
  },
  {
   "cell_type": "code",
   "execution_count": 50,
   "metadata": {},
   "outputs": [
    {
     "data": {
      "text/plain": [
       "90000000000000.0"
      ]
     },
     "execution_count": 50,
     "metadata": {},
     "output_type": "execute_result"
    }
   ],
   "source": [
    "63000000000000.0/0.7"
   ]
  },
  {
   "cell_type": "code",
   "execution_count": 54,
   "metadata": {},
   "outputs": [
    {
     "data": {
      "text/plain": [
       "'1.00000e+13'"
      ]
     },
     "execution_count": 54,
     "metadata": {},
     "output_type": "execute_result"
    }
   ],
   "source": [
    "\"%.5e\" % (7000000000000.0/0.7)"
   ]
  },
  {
   "cell_type": "code",
   "execution_count": null,
   "metadata": {},
   "outputs": [],
   "source": []
  }
 ],
 "metadata": {
  "kernelspec": {
   "display_name": "Python 3 (ipykernel)",
   "language": "python",
   "name": "python3"
  },
  "language_info": {
   "codemirror_mode": {
    "name": "ipython",
    "version": 3
   },
   "file_extension": ".py",
   "mimetype": "text/x-python",
   "name": "python",
   "nbconvert_exporter": "python",
   "pygments_lexer": "ipython3",
   "version": "3.9.13"
  }
 },
 "nbformat": 4,
 "nbformat_minor": 4
}
