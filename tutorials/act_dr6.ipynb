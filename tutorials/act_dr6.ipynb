{
 "cells": [
  {
   "cell_type": "markdown",
   "id": "926945e3-67a7-4fea-a185-cc603affa4bc",
   "metadata": {},
   "source": [
    "# Import packages\n",
    "\n",
    "\n",
    "To download an install $\\texttt{cosmocnc}$, see [github.com/inigozubeldia/cosmocnc](https://github.com/inigozubeldia/cosmocnc/tree/main).\n",
    "\n",
    "To download and install $\\texttt{class_sz}$, see [github.com/CLASS-SZ/class_sz](https://github.com/CLASS-SZ/class_sz)."
   ]
  },
  {
   "cell_type": "code",
   "execution_count": 1,
   "id": "69bd6d24-7259-4fd3-936a-d996d6d2265d",
   "metadata": {},
   "outputs": [],
   "source": [
    "%matplotlib inline\n",
    "import matplotlib\n",
    "import matplotlib.pyplot as plt\n",
    "import numpy as np"
   ]
  },
  {
   "cell_type": "code",
   "execution_count": 2,
   "id": "f3284259-2d3a-4927-abc4-f406686d0665",
   "metadata": {},
   "outputs": [
    {
     "name": "stdout",
     "output_type": "stream",
     "text": [
      "PATH_TO_COSMOPOWER_ORGANIZATION is already set to: /Users/boris/Work/CLASS-SZ/SO-SZ/cosmopower-organization\n"
     ]
    }
   ],
   "source": [
    "import os\n",
    "os.environ['PATH_TO_COSMOPOWER_ORGANIZATION'] = '/Users/boris/Work/CLASS-SZ/SO-SZ/cosmopower-organization'\n",
    "import cosmocnc as cosmocnc"
   ]
  },
  {
   "cell_type": "markdown",
   "id": "4ea060c4-5248-4d94-9740-0654df406d32",
   "metadata": {},
   "source": [
    "In a terminal you may need to do: \n",
    "```bash\n",
    "export PATH_TO_COSMOPOWER_ORGANIZATION=/path/to/cosmopower-organization\n",
    "export PYTHONPATH=/path/to/class_sz_organization/classy_szfast:PYTHONPATH\n",
    "```"
   ]
  },
  {
   "cell_type": "code",
   "execution_count": 3,
   "id": "9a8135ad-8b15-4493-a143-e4120e5c0674",
   "metadata": {},
   "outputs": [
    {
     "data": {
      "text/plain": [
       "'/Users/boris/Work/CLASS-SZ/SO-SZ/cosmocnc/cosmocnc/__init__.py'"
      ]
     },
     "execution_count": 3,
     "metadata": {},
     "output_type": "execute_result"
    }
   ],
   "source": [
    "cosmocnc.__file__"
   ]
  },
  {
   "cell_type": "code",
   "execution_count": 4,
   "id": "9b8f6b0e-0869-44aa-a020-ea18618cb92a",
   "metadata": {},
   "outputs": [
    {
     "name": "stdout",
     "output_type": "stream",
     "text": [
      "PATH_TO_CLASS_SZ_DATA not set.\n",
      "Defaulting to: /Users/boris/class_sz_data_directory\n",
      "Found class_sz_data_directory directory with all repositories at: /Users/boris/class_sz_data_directory\n",
      "PATH_TO_CLASS_SZ_DATA is not correctly set. Setting it now...\n",
      "PATH_TO_CLASS_SZ_DATA is set to /Users/boris/class_sz_data_directory\n",
      "Required directories already exist. Skipping download.\n"
     ]
    },
    {
     "data": {
      "text/plain": [
       "'/Users/boris/Work/CLASS-SZ/SO-SZ/class_sz_organization/class_sz/class-sz/python/classy_sz.cpython-39-darwin.so'"
      ]
     },
     "execution_count": 4,
     "metadata": {},
     "output_type": "execute_result"
    }
   ],
   "source": [
    "import classy_sz\n",
    "from classy_sz import Class\n",
    "classy_sz.__file__"
   ]
  },
  {
   "cell_type": "code",
   "execution_count": 5,
   "id": "871a0fd2-0bec-4910-87d6-a82ee5fbef88",
   "metadata": {},
   "outputs": [],
   "source": [
    "path_to_act_dr6_data = '/Users/boris/Work/CLASS-SZ/SO-SZ/cosmocnc/data/act_dr6_benchmark/'"
   ]
  },
  {
   "cell_type": "markdown",
   "id": "f477ac43-69d6-4b63-9d61-c2ef3a5f764c",
   "metadata": {},
   "source": [
    "## class_sz binned calculation"
   ]
  },
  {
   "cell_type": "code",
   "execution_count": 6,
   "id": "c19b88b4-97fd-4612-a2f7-703090c98d59",
   "metadata": {},
   "outputs": [
    {
     "name": "stdout",
     "output_type": "stream",
     "text": [
      "CPU times: user 36.9 s, sys: 2.43 s, total: 39.4 s\n",
      "Wall time: 6 s\n"
     ]
    }
   ],
   "source": [
    "%%time\n",
    "from classy_sz import Class\n",
    "\n",
    "M = Class()\n",
    "\n",
    "M.set({\n",
    "'output': 'sz_cluster_counts',\n",
    "\n",
    "'mass function'  : 'T08M200c',\n",
    "'concentration parameter' : 'B13',\n",
    "    \n",
    "    \n",
    "    \n",
    "'Omega_b': 0.049,\n",
    "'Omega_cdm':  0.261,\n",
    "'H0': 68.,\n",
    "'sigma8': 0.81,\n",
    "'tau_reio':  0.0561,\n",
    "'n_s': 0.965,\n",
    "    \n",
    "    \n",
    "'B':1.,\n",
    "    \n",
    "'N_ncdm' : 1,\n",
    "'N_ur' : 2.0328,\n",
    "'m_ncdm' : 0.06,\n",
    "'T_ncdm' : 0.71611,\n",
    "    \n",
    "'z_min': 0.,\n",
    "'z_max': 2.02,\n",
    "'redshift_epsrel': 1e-6,\n",
    "'redshift_epsabs': 1e-100,    \n",
    "    \n",
    "\n",
    "    \n",
    "'M_min': 1e13*0.6766,\n",
    "'M_max': 1e16*0.6766,\n",
    "'mass_epsrel':1e-6,\n",
    "'mass_epsabs':1e-100,\n",
    "# 'ndim_redshifts':200, \n",
    "'ndim_redshifts' :500,\n",
    "# 'ndim_masses' : 200,\n",
    "'n_m_dndlnM' : 500,\n",
    "'n_z_dndlnM' : 500,\n",
    "\n",
    "# 'm_pivot_ym_[Msun]': 3e14,  \n",
    "    \n",
    "'has_selection_function' : 1,\n",
    "'experiment' : 1, # Planck: 0 / ACT or SO: 1\n",
    "'y_m_relation' : 1, # ycenter : 1, # y500 : 0\n",
    "'signal-to-noise_cut-off_for_survey_cluster_completeness' : 5.,\n",
    "\n",
    "'sz_selection_function_thetas_file' : f'{path_to_act_dr6_data}/nemo_sim_thetas_151024_49bins.txt',\n",
    "'sz_selection_function_skyfracs_file' : f'{path_to_act_dr6_data}/nemo_sim_skyfracs_151024_49bins.txt',\n",
    "'sz_selection_function_ylims_file' : f'{path_to_act_dr6_data}/nemo_sim_ylims_151024_49bins.txt',    \n",
    "\n",
    "\n",
    "'bin_z_min_cluster_counts' : 0.01,\n",
    "'bin_z_max_cluster_counts' : 2.01,\n",
    "'bin_dz_cluster_counts' : 0.1,\n",
    "\n",
    "'bin_dlog10_snr' : 0.25,\n",
    "'log10_snr_min' : 0.6,#np.log10(5.),\n",
    "'log10_snr_max' : 2.,\n",
    "\n",
    "\n",
    "\n",
    "\n",
    "'dlny' : 0.05,\n",
    "'lnymin' : -20., # planck  -11.5 so/act -11\n",
    "'lnymax' : -5.,  # planck 10. so/act -5\n",
    "'dlnM_cluster_count_completeness_grid' : 0.005,\n",
    "\n",
    "\n",
    "'cluster_count_completeness_grid_z_cutoff_low' : 0.4,\n",
    "'cluster_count_completeness_grid_z_cutoff_mid' : 1.,\n",
    "\n",
    "'dz_cluster_count_completeness_grid_low_z' : 1e-3,\n",
    "'dz_cluster_count_completeness_grid_mid_z' : 1e-2,\n",
    "'dz_cluster_count_completeness_grid_high_z' : 1e-1,\n",
    "\n",
    "\n",
    "\n",
    "'mass_epsrel_cluster_counts' : 1e-6,\n",
    "'mass_epsabs_cluster_counts' : 1e-40,\n",
    "\n",
    "'redshift_epsrel_cluster_counts' : 1e-6,\n",
    "'redshift_epsabs_cluster_counts' : 1e-40,\n",
    "\n",
    "    \n",
    "'A_ym'  : 2.2e-05,\n",
    "'B_ym'  : 0.08,\n",
    "'C_ym' : 0.,\n",
    "'sigmaM_ym' : 0.2,\n",
    "'m_pivot_ym_[Msun]' : 4.25e14,\n",
    "\n",
    "'use_m500c_in_ym_relation' : 0,\n",
    "'use_m200c_in_ym_relation' : 1,\n",
    "'use_planck_binned_proba' : 0, #use diff of erfs\n",
    "'use_skyaveraged_noise': 0, # this will speed-up everything\n",
    "\n",
    "'szcc_dof': 3.,\n",
    "'szcc_qtrunc': 2.,\n",
    "    \n",
    "'HMF_prescription_NCDM': 1,\n",
    "'no_spline_in_tinker': 1,\n",
    "\n",
    "'cosmo_model': 1,\n",
    "        })\n",
    "        \n",
    "M.compute_class_szfast()\n",
    "# M.compute()\n"
   ]
  },
  {
   "cell_type": "code",
   "execution_count": 7,
   "id": "61e8d76f-6196-4171-bb1b-ca6f9f9a3a8f",
   "metadata": {},
   "outputs": [
    {
     "data": {
      "text/plain": [
       "2698.0945002731837"
      ]
     },
     "execution_count": 7,
     "metadata": {},
     "output_type": "execute_result"
    }
   ],
   "source": [
    "dNdzdy_theoretical = M.dndzdy_theoretical()['dndzdy']\n",
    "z_center = M.dndzdy_theoretical()['z_center']\n",
    "z_edges = M.dndzdy_theoretical()['z_edges']\n",
    "log10y_center = M.dndzdy_theoretical()['log10y_center']\n",
    "log10y_edges = M.dndzdy_theoretical()['log10y_edges']\n",
    "\n",
    "N_z,N_y = np.shape(dNdzdy_theoretical)\n",
    "N_clusters_z_theory = []\n",
    "for iz in range(N_z):\n",
    "    N_clusters_z_theory.append(np.sum(dNdzdy_theoretical[iz][0:]))\n",
    "N_clusters_y_theory = []\n",
    "\n",
    "for iy in range(N_y):\n",
    "    N_clusters_y_theory.append(np.sum(np.asarray(dNdzdy_theoretical)[:,iy]))\n",
    "    \n",
    "# print total number of clusters: \n",
    "np.sum(N_clusters_z_theory)"
   ]
  },
  {
   "cell_type": "code",
   "execution_count": 8,
   "id": "0b607d4c-f460-43c7-89c7-8a0f506c99ed",
   "metadata": {},
   "outputs": [
    {
     "data": {
      "text/plain": [
       "[<matplotlib.lines.Line2D at 0x31d887520>]"
      ]
     },
     "execution_count": 8,
     "metadata": {},
     "output_type": "execute_result"
    },
    {
     "data": {
      "image/png": "[encoded data removed]",
      "text/plain": [
       "<Figure size 640x480 with 1 Axes>"
      ]
     },
     "metadata": {},
     "output_type": "display_data"
    }
   ],
   "source": [
    "plt.plot(z_center,N_clusters_z_theory)"
   ]
  },
  {
   "cell_type": "code",
   "execution_count": 9,
   "id": "2e00ec11-77e0-4da8-a039-23ad00958e54",
   "metadata": {},
   "outputs": [
    {
     "data": {
      "text/plain": [
       "[<matplotlib.lines.Line2D at 0x3db4b3460>]"
      ]
     },
     "execution_count": 9,
     "metadata": {},
     "output_type": "execute_result"
    },
    {
     "data": {
      "image/png": "[encoded data removed]",
      "text/plain": [
       "<Figure size 640x480 with 1 Axes>"
      ]
     },
     "metadata": {},
     "output_type": "display_data"
    }
   ],
   "source": [
    "plt.plot(log10y_center,N_clusters_y_theory)"
   ]
  },
  {
   "cell_type": "markdown",
   "id": "2864da1b-0f4a-4098-8e83-9063c0ed0392",
   "metadata": {},
   "source": [
    "## class_sz FFT unbinned calculation"
   ]
  },
  {
   "cell_type": "code",
   "execution_count": 10,
   "id": "9ac188df-7faf-41ee-a714-b886eb3a2b49",
   "metadata": {},
   "outputs": [
    {
     "name": "stdout",
     "output_type": "stream",
     "text": [
      "CPU times: user 2min 40s, sys: 2.06 s, total: 2min 42s\n",
      "Wall time: 21.8 s\n"
     ]
    }
   ],
   "source": [
    "\n",
    "%%time\n",
    "szcounts_param ={\n",
    "'output': 'sz_cluster_counts_fft',\n",
    "\n",
    "'mass function'  : 'T08M200c',\n",
    "'concentration parameter' : 'B13',\n",
    "    \n",
    "    \n",
    "    \n",
    "'Omega_b': 0.049,\n",
    "'Omega_cdm':  0.261,\n",
    "'H0': 68.,\n",
    "'sigma8': 0.81,\n",
    "'tau_reio':  0.0561,\n",
    "'n_s': 0.965,\n",
    "    \n",
    "    \n",
    "'B':1.,\n",
    "    \n",
    "'N_ncdm' : 1,\n",
    "'N_ur' : 2.0328,\n",
    "'m_ncdm' : 0.06,\n",
    "'T_ncdm' : 0.71611,\n",
    "    \n",
    "'z_min': 0.,\n",
    "'z_max': 2.02,\n",
    "'redshift_epsrel': 1e-6,\n",
    "'redshift_epsabs': 1e-100,  \n",
    "    \n",
    "'M_min': 5e13*0.6766,\n",
    "'M_max': 1e16*0.6766,\n",
    "'mass_epsrel':1e-4,\n",
    "'mass_epsabs':1e-100,\n",
    "'ndim_redshifts':185, \n",
    "    \n",
    "'n_z_dndlnM' : 512,\n",
    "'n_m_dndlnM' : 512,\n",
    "\n",
    "\n",
    "    \n",
    "'has_selection_function' : 1,\n",
    "'experiment' : 1, # Planck: 0 / ACT or SO: 1\n",
    "'y_m_relation' : 1, # ycenter : 1, # y500 : 0\n",
    "'signal-to-noise_cut-off_for_survey_cluster_completeness' : 5.,\n",
    "\n",
    "\n",
    "'sz_selection_function_thetas_file' : f'{path_to_act_dr6_data}/nemo_sim_thetas_151024_49bins.txt',\n",
    "'sz_selection_function_skyfracs_file' : f'{path_to_act_dr6_data}/nemo_sim_skyfracs_151024_49bins.txt',\n",
    "'sz_selection_function_ylims_file' : f'{path_to_act_dr6_data}/nemo_sim_ylims_151024_49bins.txt',    \n",
    "\n",
    "    \n",
    "'A_ym'  : 2.2e-05,\n",
    "'B_ym'  : 0.08,\n",
    "'C_ym' : 0.,\n",
    "'sigmaM_ym' : 0.2,\n",
    "'m_pivot_ym_[Msun]' : 4.25e14,\n",
    "\n",
    "'use_m500c_in_ym_relation' : 0,\n",
    "'use_m200c_in_ym_relation' : 1,\n",
    "'use_skyaveraged_noise': 0, # this will speed-up everything\n",
    "    \n",
    "    \n",
    "# 'N_samp_fftw' : 2**12,\n",
    "'N_samp_fftw' : 4056,\n",
    "\n",
    "'szcounts_fft_nz' : 550,\n",
    "\n",
    "'z_min' : 0.0,\n",
    "'z_max' : 2.02,\n",
    "    \n",
    "'szcounts_fft_z_min' : 0.01,\n",
    "'szcounts_fft_z_max' : 2.01,\n",
    "    \n",
    "    \n",
    "    \n",
    "'tol_dlnm_dlnq':0.001,\n",
    "'ntab_dlnm_dlnq':1000, # fiducial 1000\n",
    "\n",
    "'szcounts_qmax_fft_padded':500.,\n",
    "    \n",
    "'sigma_derivative' : 0,\n",
    "'szcc_dof': 3.,\n",
    "'szcc_qtrunc':2.,\n",
    "\n",
    "    \n",
    "'HMF_prescription_NCDM': 1,\n",
    "'no_spline_in_tinker': 1,\n",
    "    \n",
    "'cosmo_model': 1,\n",
    "        }\n",
    "M.set(szcounts_param)\n",
    "        \n",
    "M.compute_class_szfast()\n",
    "# M.compute()"
   ]
  },
  {
   "cell_type": "code",
   "execution_count": 11,
   "id": "d9573f9f-6851-4eaa-bc53-e21b867fe50d",
   "metadata": {},
   "outputs": [
    {
     "data": {
      "text/plain": [
       "0.8099999999999999"
      ]
     },
     "execution_count": 11,
     "metadata": {},
     "output_type": "execute_result"
    }
   ],
   "source": [
    "M.sigma8()"
   ]
  },
  {
   "cell_type": "code",
   "execution_count": 12,
   "id": "d6030d7f-6c02-4fa8-b69a-3e83d1686da8",
   "metadata": {},
   "outputs": [
    {
     "name": "stdout",
     "output_type": "stream",
     "text": [
      "2772.3464382767474\n"
     ]
    }
   ],
   "source": [
    "szcounts = M.szcounts_ntot_rates_loglike()\n",
    "# print(szcounts['ntot'],szcounts['loglike'])\n",
    "print(szcounts['ntot'])"
   ]
  },
  {
   "cell_type": "code",
   "execution_count": 1,
   "id": "e5ade3af-2565-4193-a7f4-11b18007ec0f",
   "metadata": {},
   "outputs": [
    {
     "data": {
      "text/plain": [
       "0.02666666666666667"
      ]
     },
     "execution_count": 1,
     "metadata": {},
     "output_type": "execute_result"
    }
   ],
   "source": [
    "72/2700"
   ]
  },
  {
   "cell_type": "code",
   "execution_count": 13,
   "id": "9318fce6-8e28-4d75-9447-bcf9ce569d6e",
   "metadata": {},
   "outputs": [
    {
     "name": "stdout",
     "output_type": "stream",
     "text": [
      "2772.1065775760017\n"
     ]
    }
   ],
   "source": [
    "zmin = szcounts_param['szcounts_fft_z_min']\n",
    "zmax = szcounts_param['szcounts_fft_z_max']\n",
    "nz = szcounts_param['szcounts_fft_nz']\n",
    "z_arr = np.linspace(zmin,zmax,nz)\n",
    "\n",
    "q_threshold = 5.\n",
    "q_max = 100.\n",
    "nq = 5000\n",
    "q_arr = np.geomspace(q_threshold, q_max,nq)\n",
    "dq = (q_max-q_threshold)/(nq-1.)\n",
    "dz = (zmax - zmin)/(nz-1.)\n",
    "get_dndzdq = np.vectorize(M.get_szcounts_dndzdq_at_z_q)\n",
    "Nz = []\n",
    "for zp in z_arr:\n",
    "    Nz.append(np.trapz(get_dndzdq(zp,q_arr)*q_arr,x=np.log(q_arr)))\n",
    "Nz = np.asarray(Nz)\n",
    "Nq = []\n",
    "for qp in q_arr:\n",
    "    Nq.append(np.trapz(get_dndzdq(z_arr,qp),x=z_arr))\n",
    "Nq = np.asarray(Nq)\n",
    "Ntot = np.trapz(Nz,x=z_arr)\n",
    "# Ntot = np.sum(Nz)*dz\n",
    "print(Ntot)\n",
    "\n",
    "z_edges_low = z_edges[:-1]\n",
    "z_edges_high = z_edges[1:]\n",
    "Nz_binned = []\n",
    "for (zm,zp) in zip(z_edges_low,z_edges_high):\n",
    "    z_arr_bin = np.linspace(zm,zp,50)\n",
    "    Nz_in = []\n",
    "    for zpbin in z_arr_bin:\n",
    "        Nz_in.append(np.trapz(get_dndzdq(zpbin,q_arr)*q_arr,x=np.log(q_arr)))\n",
    "    Nz_binned.append(np.trapz(Nz_in,x=z_arr_bin))\n",
    "Nz_binned = np.asarray(Nz_binned)\n",
    "\n",
    "q_edges_low = log10y_edges[:-1]\n",
    "q_edges_low[0] = 0.6\n",
    "q_edges_high = log10y_edges[1:]\n",
    "Nq_binned = []\n",
    "for (qm,qp) in zip(q_edges_low,q_edges_high):\n",
    "    q_arr_bin = np.linspace(qm,qp,50)\n",
    "    Nq_in = []\n",
    "    for qpbin in q_arr_bin:\n",
    "        if 10.**qpbin<q_threshold:\n",
    "            Nq_in.append(0.)\n",
    "        else:\n",
    "            Nq_in.append(np.trapz(get_dndzdq(z_arr,10**qpbin),x=z_arr))\n",
    "    Nq_binned.append(np.trapz(Nq_in,x=10**q_arr_bin))\n",
    "Nq_binned = np.asarray(Nq_binned)"
   ]
  },
  {
   "cell_type": "code",
   "execution_count": 14,
   "id": "a8e877e7-50a5-46bb-9f9c-ed2a14ffe352",
   "metadata": {},
   "outputs": [
    {
     "data": {
      "text/plain": [
       "[<matplotlib.lines.Line2D at 0x17409b400>]"
      ]
     },
     "execution_count": 14,
     "metadata": {},
     "output_type": "execute_result"
    },
    {
     "data": {
      "image/png": "[encoded data removed]",
      "text/plain": [
       "<Figure size 640x480 with 1 Axes>"
      ]
     },
     "metadata": {},
     "output_type": "display_data"
    }
   ],
   "source": [
    "plt.plot(z_center,Nz_binned)"
   ]
  },
  {
   "cell_type": "code",
   "execution_count": 15,
   "id": "52018f28-aed5-41c1-a85c-5f6c4e3c56ee",
   "metadata": {},
   "outputs": [
    {
     "data": {
      "text/plain": [
       "[<matplotlib.lines.Line2D at 0x35f1fdd30>]"
      ]
     },
     "execution_count": 15,
     "metadata": {},
     "output_type": "execute_result"
    },
    {
     "data": {
      "image/png": "[encoded data removed]",
      "text/plain": [
       "<Figure size 640x480 with 1 Axes>"
      ]
     },
     "metadata": {},
     "output_type": "display_data"
    }
   ],
   "source": [
    "plt.plot(log10y_center,Nq_binned)"
   ]
  },
  {
   "cell_type": "code",
   "execution_count": null,
   "id": "fcf02a1a-de63-4c02-b5e3-d26b862eeb0d",
   "metadata": {},
   "outputs": [
    {
     "name": "stdout",
     "output_type": "stream",
     "text": [
      "PATH_TO_COSMOPOWER_ORGANIZATION is already set to: /Users/boris/Work/CLASS-SZ/SO-SZ/cosmopower-organization\n",
      "PATH_TO_CLASS_SZ_DATA not set.\n",
      "Defaulting to: /Users/boris/class_sz_data_directory\n",
      "Found class_sz_data_directory directory with all repositories at: /Users/boris/class_sz_data_directory\n",
      "PATH_TO_CLASS_SZ_DATA is not correctly set. Setting it now...\n",
      "PATH_TO_CLASS_SZ_DATA is set to /Users/boris/class_sz_data_directory\n",
      "Required directories already exist. Skipping download.\n"
     ]
    }
   ],
   "source": [
    "%%time\n",
    "import cosmocnc as cnc\n",
    "import classy_sz\n",
    "import numpy as np\n",
    "number_counts = cnc.cluster_number_counts()\n",
    "cnc_params = number_counts.cnc_params\n",
    "#### set params here\n",
    "cnc_params_new = {\n",
    "\n",
    "\n",
    "    \"n_points\": 1024*32,#2**7, #number of points in which the mass function at each redshift (and all the convolutions) is evaluated\n",
    "    \"M_min\": 1e13,\n",
    "    \"M_max\": 1e16,\n",
    "\n",
    "\n",
    "    \"obs_select_min\": 5.,\n",
    "    \"obs_select_max\": 100.,\n",
    "\n",
    "    \"z_min\": 0.01,\n",
    "    \"z_max\": 2.01,\n",
    "    \"n_z\": 2000,\n",
    "\n",
    "\n",
    "    # \"cluster_catalogue\":\"Planck_MMF3_cosmo\",\n",
    "    \n",
    "    'observables': [[\"q_act\"]],\n",
    "    'obs_select': \"q_act\",\n",
    "    'cluster_catalogue' : 'act',\n",
    "    \n",
    "\n",
    "\n",
    "\n",
    "    \n",
    "    \"number_cores_hmf\": 1,\n",
    "    \"number_cores_abundance\": 8,\n",
    "    \"number_cores_data\": 16,\n",
    "\n",
    "    \"parallelise_type\": \"patch\", # patch is important for this benchmark\n",
    "    \"scalrel_type_deriv\": \"numerical\",\n",
    "\n",
    "    \"abundance_integral_type\":\"fft\",\n",
    "    \"compute_abundance_matrix\":True,\n",
    "    # 'm_ncdm'\n",
    "\n",
    "    \"cosmo_amplitude_parameter\": \"sigma_8\",\n",
    "    'A0' : np.log10(2.2e-05),\n",
    "    'B0 ': 0.08,\n",
    "    'SZmPivot' : 4.25e14,\n",
    "    'bias_sz' : 1.,\n",
    "    'sigma_lnq' : 0.2,\n",
    "    'C0' : 0.,\n",
    "\n",
    "    'Ob0': 0.049,\n",
    "    'Om0':  0.261+0.049,\n",
    "    'H0': 68.,\n",
    "    'sigma8': 0.81,\n",
    "    'tau_reio':  0.0561,\n",
    "    'n_s': 0.965,\n",
    "    \n",
    "    \"m_nu\":0.06,\n",
    "    'tau_reio':  0.0561,\n",
    "    \"dof\":3.,\n",
    "    \n",
    "\n",
    "    \"mass_definition\": \"200c\",\n",
    "    \"class_sz_use_m500c_in_ym_relation\": 0,\n",
    "    \"class_sz_use_m200c_in_ym_relation\": 1,\n",
    "    \"class_sz_output\": \"mPk,m500c_to_m200c,m200c_to_m500c\",\n",
    "    \n",
    "    'apply_obs_cutoff' : True,\n",
    "    \n",
    "    'cosmology_tool' : \"classy_sz\",\n",
    "    \"cosmo_model\" : \"lcdm\",\n",
    "    \"class_sz_ndim_redshifts\" : 500,\n",
    "    \"class_sz_ndim_masses\" : 100,  # when using cosmopower this is automatically fixed. \n",
    "    \"class_sz_concentration_parameter\" : \"B13\",\n",
    "    \"class_sz_hmf\": \"T08M200c\", \n",
    "    \"hmf_calc\": \"classy_sz\",\n",
    "    \"interp_tinker\": \"log\", #\"linear\" or \"log\"\n",
    "\n",
    "    \n",
    "}\n",
    "for k,v in cnc_params_new.items():\n",
    "    cnc_params[k] = v\n",
    "number_counts.cnc_params = cnc_params\n",
    "number_counts.initialise()\n",
    "\n",
    "cosmo_params = number_counts.cosmo_params\n",
    "scal_rel_params = number_counts.scal_rel_params\n",
    "# print(cosmo_params)\n",
    "\n",
    "# cosmo_params[\"H0\"] = 68.\n",
    "for k,v in cnc_params_new.items():\n",
    "    cosmo_params[k] = v\n",
    "    scal_rel_params[k] = v\n",
    "\n",
    "number_counts.get_number_counts()\n",
    "number_counts.get_abundance_matrix()\n"
   ]
  },
  {
   "cell_type": "code",
   "execution_count": null,
   "id": "a86b049b-538f-4a3e-b378-2c323e981aff",
   "metadata": {},
   "outputs": [],
   "source": [
    "# log_lik_binned = number_counts.get_lik_binned()\n",
    "dndz = number_counts.n_z\n",
    "dndq = number_counts.n_obs\n",
    "cnc_zs = number_counts.redshift_vec\n",
    "cnc_qs = number_counts.obs_select_vec\n",
    "# print(\"dndz:\",dndz)\n",
    "# print(\"dndq:\",dndq)\n",
    "# print(\"cnc_zs:\",cnc_zs)\n",
    "# print(\"cnc_qs:\",cnc_qs)"
   ]
  },
  {
   "cell_type": "code",
   "execution_count": null,
   "id": "38999fc4-48a1-46e7-8d3a-9621c2221a2b",
   "metadata": {},
   "outputs": [],
   "source": [
    "from scipy import interpolate\n",
    "zmin = cnc_zs[0]\n",
    "zmax = cnc_zs[-1]\n",
    "nz = len(cnc_zs)\n",
    "z_arr = cnc_zs\n",
    "\n",
    "q_threshold = cnc_qs[0]\n",
    "q_max = cnc_qs[-1]\n",
    "nq = len(cnc_qs)\n",
    "q_arr = cnc_qs\n",
    "dq = (q_max-q_threshold)/(nq-1.)\n",
    "dz = (zmax - zmin)/(nz-1.)\n",
    "# get_dndzdq = np.vectorize(M.get_szcounts_dndzdq_at_z_q)\n",
    "# Nz = []\n",
    "# for zp in z_arr:\n",
    "#     Nz.append(np.trapz(get_dndzdq(zp,q_arr)*q_arr,x=np.log(q_arr)))\n",
    "# Nz = np.asarray(Nz)\n",
    "# Nq = []\n",
    "# for qp in q_arr:\n",
    "#     Nq.append(np.trapz(get_dndzdq(z_arr,qp),x=z_arr))\n",
    "# Nq = np.asarray(Nq)\n",
    "Ntot = np.trapz(dndz,x=z_arr)\n",
    "# Ntot = np.sum(Nz)*dz\n",
    "print(Ntot)\n",
    "\n",
    "z_edges_low = z_edges[:-1]\n",
    "z_edges_high = z_edges[1:]\n",
    "Nz_binned_cnc = []\n",
    "for (zm,zp) in zip(z_edges_low,z_edges_high):\n",
    "    z_arr_bin = np.linspace(zm,zp,50)\n",
    "    # Nz_in = []\n",
    "    # for zpbin in z_arr_bin:\n",
    "    #     Nz_in.append(np.trapz(get_dndzdq(zpbin,q_arr)*q_arr,x=np.log(q_arr)))\n",
    "    dndz_inter = interpolate.interp1d(cnc_zs,dndz,bounds_error=False,fill_value=0.)\n",
    "    # dndz_inter = np.interp(z_arr_bin,cnc_zs,dndz)\n",
    "    Nz_binned_cnc.append(np.trapz(dndz_inter(z_arr_bin),x=z_arr_bin))\n",
    "Nz_binned_cnc = np.asarray(Nz_binned_cnc)\n",
    "\n",
    "q_edges_low = log10y_edges[:-1]\n",
    "q_edges_low[0] = 0.6\n",
    "q_edges_high = log10y_edges[1:]\n",
    "Nq_binned_cnc = []\n",
    "for (qm,qp) in zip(q_edges_low,q_edges_high):\n",
    "    q_arr_bin = np.linspace(qm,qp,50)\n",
    "    # Nq_in = []\n",
    "    # for qpbin in q_arr_bin:\n",
    "    #     if 10.**qpbin<q_threshold:\n",
    "    #         Nq_in.append(0.)\n",
    "    #     else:\n",
    "    #         Nq_in.append(np.trapz(get_dndzdq(z_arr,10**qpbin),x=z_arr))\n",
    "    dndq_inter = interpolate.interp1d(cnc_qs,dndq,bounds_error=False,fill_value=0.)\n",
    "    Nq_binned_cnc.append(np.trapz(dndq_inter(10**q_arr_bin),x=10**q_arr_bin))\n",
    "Nq_binned_cnc = np.asarray(Nq_binned_cnc)"
   ]
  }
 ],
 "metadata": {
  "kernelspec": {
   "display_name": "Python 3 (ipykernel)",
   "language": "python",
   "name": "python3"
  },
  "language_info": {
   "codemirror_mode": {
    "name": "ipython",
    "version": 3
   },
   "file_extension": ".py",
   "mimetype": "text/x-python",
   "name": "python",
   "nbconvert_exporter": "python",
   "pygments_lexer": "ipython3",
   "version": "3.9.13"
  },
  "widgets": {
   "application/vnd.jupyter.widget-state+json": {
    "state": {},
    "version_major": 2,
    "version_minor": 0
   }
  }
 },
 "nbformat": 4,
 "nbformat_minor": 5
}
