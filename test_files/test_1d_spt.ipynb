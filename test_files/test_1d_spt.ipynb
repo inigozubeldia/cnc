{
 "cells": [
  {
   "cell_type": "code",
   "execution_count": 15,
   "metadata": {},
   "outputs": [],
   "source": [
    "%matplotlib inline\n",
    "import matplotlib\n",
    "import matplotlib.pyplot as plt\n",
    "import numpy as np\n",
    "import os\n",
    "import subprocess\n",
    "import yaml  \n",
    "\n",
    "path_to_yaml = \"/Users/boris/Work/CLASS-SZ/SO-SZ/cnc/mcmcs/cobaya/input_files/cobaya_cnc_spt_unbinned_WLYxmasscal_classy_sz_evaluate_as\"\n",
    "path_to_output = \"/Users/boris/Work/CLASS-SZ/SO-SZ/cnc/mcmcs/cobaya/chains/cnc_unbinned_cluster_counts_spt_unbinned_WLYxmasscal_evaluate_5sept23_as.1.txt\"\n",
    "\n",
    "Dict_yaml = yaml.safe_load(open(path_to_yaml+\".yaml\"))\n",
    "\n",
    "\n",
    "param_to_vary = \"A_s\"\n",
    "p_min = 1.8e-9\n",
    "p_max = 2.8e-9\n",
    "p_ar = np.linspace(p_min,p_max,2)\n",
    "\n",
    "# param_to_vary = \"corr_xi_WL\"\n",
    "# p_min = -0.5\n",
    "# p_max = 0.5\n",
    "# p_ar = np.linspace(p_min,p_max,2)\n",
    "\n",
    "mlnp_ar = []\n",
    "ntot_ar = []\n",
    "ntotfields_ar = []\n",
    "for p in p_ar: \n",
    "\n",
    "    Dict_yaml['sampler']['evaluate']['override'][param_to_vary] = float(p)\n",
    "    path_to_yaml_tmp = path_to_yaml+'_tmp.yaml'\n",
    "    with open(path_to_yaml_tmp,'w') as outfile:\n",
    "        yaml.dump(Dict_yaml, outfile, default_flow_style=False)\n",
    "\n",
    "\n",
    "    str_cmd_subprocess = [\"cobaya-run\",\n",
    "                          path_to_yaml_tmp,\n",
    "                          \"-f\"]\n",
    "\n",
    "    code_output = subprocess.run(str_cmd_subprocess,\n",
    "                                 capture_output=True, \n",
    "                                 text=True)\n",
    "    r = np.loadtxt(path_to_output)\n",
    "    mlnp = r[::-1][0]/2.\n",
    "    mlnp_ar.append(mlnp)\n",
    "    ntotfields = []\n",
    "    for line in code_output.stdout.split('\\n'):\n",
    "        if 'Ntot =' in line:\n",
    "            ntot = float(line.split('=')[1])\n",
    "            ntot_ar.append(ntot)\n",
    "        for i in range(19): # there are 19 spt fields\n",
    "            if 'Ntotalfields %d='%i in line:\n",
    "                ntotfields.append(float(line.split('=')[1]))\n",
    "    ntotfields_ar.append(ntotfields)\n",
    "mlnp_ar = np.asarray(mlnp_ar)\n",
    "ntot_ar = np.asarray(ntot_ar)\n",
    "\n"
   ]
  },
  {
   "cell_type": "code",
   "execution_count": 6,
   "metadata": {},
   "outputs": [
    {
     "name": "stdout",
     "output_type": "stream",
     "text": [
      "[output] Output to be read-from/written-into folder '/Users/boris/Work/CLASS-SZ/SO-SZ/cnc/mcmcs/cobaya/chains', with prefix 'cnc_unbinned_cluster_counts_spt_unbinned_WLYxmasscal_evaluate_5sept23_as'\n",
      "[output] Found existing info files with the requested output prefix: '/Users/boris/Work/CLASS-SZ/SO-SZ/cnc/mcmcs/cobaya/chains/cnc_unbinned_cluster_counts_spt_unbinned_WLYxmasscal_evaluate_5sept23_as'\n",
      "[output] Will delete previous products ('force' was requested).\n",
      "[absl] *WARNING* At this time, the v2.11+ optimizer `tf.keras.optimizers.Adam` runs slowly on M1/M2 Macs, please use the legacy Keras optimizer instead, located at `tf.keras.optimizers.legacy.Adam`.\n",
      "[absl] *WARNING* At this time, the v2.11+ optimizer `tf.keras.optimizers.Adam` runs slowly on M1/M2 Macs, please use the legacy Keras optimizer instead, located at `tf.keras.optimizers.legacy.Adam`.\n",
      "[prior] *WARNING* External prior 'Ob0h2_prior' loaded. Mind that it might not be normalized!\n",
      "[prior] *WARNING* External prior 'dlnMg_dlnr_prior' loaded. Mind that it might not be normalized!\n",
      "[prior] *WARNING* External prior 'hstbias_prior' loaded. Mind that it might not be normalized!\n",
      "[prior] *WARNING* External prior 'hstscatter_prior' loaded. Mind that it might not be normalized!\n",
      "[prior] *WARNING* External prior 'megacambias_prior' loaded. Mind that it might not be normalized!\n",
      "[prior] *WARNING* External prior 'megacamscatter_prior' loaded. Mind that it might not be normalized!\n",
      "[prior] *WARNING* External prior 'n_s_prior' loaded. Mind that it might not be normalized!\n",
      "[prior] *WARNING* External prior 'sigma_lnq_prior' loaded. Mind that it might not be normalized!\n",
      "[prior] *WARNING* External prior 'wlbias_prior' loaded. Mind that it might not be normalized!\n",
      "[prior] *WARNING* External prior 'wlscatter_prior' loaded. Mind that it might not be normalized!\n",
      "[tensorflow] *WARNING* Please fix your imports. Module tensorflow.python.training.tracking.data_structures has been moved to tensorflow.python.trackable.data_structures. The old module will be deleted in version 2.11.\n",
      ">>> computing class_sz ini\n",
      "classy_sz computed 0.8259640339763222\n",
      "[cnc.cnc_cobaya_theory.cnc] Initialized\n",
      "[evaluate] Initialized!\n",
      "[evaluate] Looking for a reference point with non-zero prior.\n",
      "[evaluate] Reference point:\n",
      "   A_s = 2.8e-09\n",
      "   A_sz = 5.5\n",
      "   A_x = 6.5\n",
      "   B_sz = 1.75\n",
      "   B_x = 0.6\n",
      "   C_sz = 0.5\n",
      "   C_x = -0.25\n",
      "   H0 = 67\n",
      "   HSTbias = 0.012\n",
      "   HSTscatterLSS = 0.0023\n",
      "   MegacamBias = 0.01\n",
      "   MegacamScatterLSS = 0.002\n",
      "   Ob0 = 0.0490087\n",
      "   Om0 = 0.28\n",
      "   WLbias = 0.03\n",
      "   WLscatter = 0.035\n",
      "   corr_Yx_WL = 0.02\n",
      "   corr_xi_WL = 0.12\n",
      "   corr_xi_Yx = 0.1\n",
      "   dlnMg_dlnr = 1.12\n",
      "   n_s = 0.97\n",
      "   sigma_lnYx = 0.255\n",
      "   sigma_lnq = 0.173\n",
      "[evaluate] Evaluating prior and likelihoods...\n",
      ">>>>> computing classy_sz cosmo.py update_cosmology\n",
      "classy_params {'H0': 67.0, 'omega_b': 0.022, 'omega_cdm': 0.10369200000000003, 'tau_reio': 0.06, 'n_s': 0.97, 'N_ncdm': 1, 'N_ur': 2.0328, 'm_ncdm': 0.06, 'T_ncdm': 0.71611, 'skip_background_and_thermo': 0, 'skip_chi': 1, 'skip_hubble': 1, 'skip_cmb': 1, 'skip_pknl': 1, 'skip_pkl': 0, 'skip_sigma8_and_der': 0, 'skip_sigma8_at_z': 1, 'output': 'mPk,m500c_to_m200c,m200c_to_m500c,dndlnM', 'mass function': 'M500', 'HMF_prescription_NCDM': 1, 'no_spline_in_tinker': 1, 'M_min': 10000000000000.0, 'M_max': 1e+16, 'z_min': 0.0, 'z_max': 4.0, 'ndim_redshifts': 800, 'ndim_masses': 800, 'n_z_dndlnM': 800, 'n_m_dndlnM': 800, 'concentration parameter': 'D08', 'ln10^{10}A_s': 3.332204510175204}\n",
      "classy computed in updated cosmology\n",
      "sigma8: 0.8542809798006474\n",
      "Ntot = 876.6427207623591\n",
      "Ntotalfields 0=35.5032\n",
      "Ntotalfields 1=46.5382\n",
      "Ntotalfields 2=60.2960\n",
      "Ntotalfields 3=85.3765\n",
      "Ntotalfields 4=58.6687\n",
      "Ntotalfields 5=61.2991\n",
      "Ntotalfields 6=50.3969\n",
      "Ntotalfields 7=54.7498\n",
      "Ntotalfields 8=50.1338\n",
      "Ntotalfields 9=30.1445\n",
      "Ntotalfields 10=28.0706\n",
      "Ntotalfields 11=59.5411\n",
      "Ntotalfields 12=24.2573\n",
      "Ntotalfields 13=36.6494\n",
      "Ntotalfields 14=38.2797\n",
      "Ntotalfields 15=26.7553\n",
      "Ntotalfields 16=71.4790\n",
      "Ntotalfields 17=34.6476\n",
      "Ntotalfields 18=23.8559\n",
      "[evaluate] log-posterior  = -119.155\n",
      "[evaluate] log-prior      = 10.7505\n",
      "[evaluate]    logprior_0 = 4.59975\n",
      "[evaluate]    logprior_Ob0h2_prior = 6.54228\n",
      "[evaluate]    logprior_dlnMg_dlnr_prior = 0.550737\n",
      "[evaluate]    logprior_hstbias_prior = -0.919011\n",
      "[evaluate]    logprior_hstscatter_prior = -0.918941\n",
      "[evaluate]    logprior_megacambias_prior = -0.918989\n",
      "[evaluate]    logprior_megacamscatter_prior = -0.918941\n",
      "[evaluate]    logprior_n_s_prior = 1.71927\n",
      "[evaluate]    logprior_sigma_lnq_prior = 2.85332\n",
      "[evaluate]    logprior_wlbias_prior = -0.919389\n",
      "[evaluate]    logprior_wlscatter_prior = -0.919551\n",
      "[evaluate] log-likelihood = -129.906\n",
      "[evaluate]    chi2_cnc.cnc_cobaya_likelihood.cnc_likelihood = 259.811\n",
      "[evaluate] Derived params:\n",
      "[evaluate]    sigma8 = 0.854281\n",
      "[cnc.cnc_cobaya_likelihood.cnc_likelihood] Average evaluation time for cnc.cnc_cobaya_likelihood.cnc_likelihood: 9.5416e-05 s  (1 evaluations)\n",
      "[cnc.cnc_cobaya_theory.cnc] Average evaluation time for cnc.cnc_cobaya_theory.cnc: 13.7214 s  (1 evaluations)\n",
      "\n"
     ]
    }
   ],
   "source": [
    "for line in code_output.stdout.split('\\n'):\n",
    "    print(line)"
   ]
  },
  {
   "cell_type": "code",
   "execution_count": 16,
   "metadata": {},
   "outputs": [
    {
     "data": {
      "text/plain": [
       "array([ 65.96340414, 876.64272076])"
      ]
     },
     "execution_count": 16,
     "metadata": {},
     "output_type": "execute_result"
    }
   ],
   "source": [
    "ntot_ar"
   ]
  },
  {
   "cell_type": "code",
   "execution_count": 126,
   "metadata": {},
   "outputs": [
    {
     "data": {
      "text/plain": [
       "[[9.4407,\n",
       "  12.5171,\n",
       "  15.9253,\n",
       "  22.3471,\n",
       "  14.8892,\n",
       "  16.1076,\n",
       "  12.8695,\n",
       "  14.1542,\n",
       "  12.9188,\n",
       "  7.5951,\n",
       "  7.2134,\n",
       "  15.4262,\n",
       "  6.252,\n",
       "  9.3876,\n",
       "  9.8996,\n",
       "  6.8243,\n",
       "  18.4644,\n",
       "  8.9031,\n",
       "  6.1569],\n",
       " [9.4407,\n",
       "  12.5171,\n",
       "  15.9253,\n",
       "  22.3471,\n",
       "  14.8892,\n",
       "  16.1076,\n",
       "  12.8695,\n",
       "  14.1542,\n",
       "  12.9188,\n",
       "  7.5951,\n",
       "  7.2134,\n",
       "  15.4262,\n",
       "  6.252,\n",
       "  9.3876,\n",
       "  9.8996,\n",
       "  6.8243,\n",
       "  18.4644,\n",
       "  8.9031,\n",
       "  6.1569]]"
      ]
     },
     "execution_count": 126,
     "metadata": {},
     "output_type": "execute_result"
    }
   ],
   "source": [
    "ntotfields_ar"
   ]
  },
  {
   "cell_type": "code",
   "execution_count": 64,
   "metadata": {},
   "outputs": [
    {
     "data": {
      "text/plain": [
       "[<matplotlib.lines.Line2D at 0x1387f9e20>]"
      ]
     },
     "execution_count": 64,
     "metadata": {},
     "output_type": "execute_result"
    },
    {
     "data": {
      "image/png": "[encoded data removed]",
      "text/plain": [
       "<Figure size 640x480 with 1 Axes>"
      ]
     },
     "metadata": {},
     "output_type": "display_data"
    }
   ],
   "source": [
    "plt.plot(p_ar,mlnp_ar,marker='o')"
   ]
  },
  {
   "cell_type": "code",
   "execution_count": null,
   "metadata": {},
   "outputs": [
    {
     "data": {
      "text/plain": [
       "[<matplotlib.lines.Line2D at 0x1652788b0>]"
      ]
     },
     "metadata": {},
     "output_type": "display_data"
    },
    {
     "data": {
      "image/png": "[encoded data removed]",
      "text/plain": [
       "<Figure size 640x480 with 1 Axes>"
      ]
     },
     "metadata": {},
     "output_type": "display_data"
    }
   ],
   "source": [
    "plt.plot(p_ar,mlnp_ar,marker='o')"
   ]
  },
  {
   "cell_type": "code",
   "execution_count": 17,
   "metadata": {},
   "outputs": [
    {
     "data": {
      "text/plain": [
       "array([278.180805, 129.90575 ])"
      ]
     },
     "execution_count": 17,
     "metadata": {},
     "output_type": "execute_result"
    }
   ],
   "source": [
    "mlnp_ar"
   ]
  },
  {
   "cell_type": "code",
   "execution_count": 18,
   "metadata": {},
   "outputs": [],
   "source": [
    "np.savetxt('/Users/boris/Work/CLASS-SZ/SO-SZ/cnc/mcmcs/cobaya/chains/cnc1d'+param_to_vary+'.txt',np.c_[p_ar,mlnp_ar])"
   ]
  },
  {
   "cell_type": "code",
   "execution_count": null,
   "metadata": {},
   "outputs": [],
   "source": []
  }
 ],
 "metadata": {
  "kernelspec": {
   "display_name": "base",
   "language": "python",
   "name": "python3"
  },
  "language_info": {
   "codemirror_mode": {
    "name": "ipython",
    "version": 3
   },
   "file_extension": ".py",
   "mimetype": "text/x-python",
   "name": "python",
   "nbconvert_exporter": "python",
   "pygments_lexer": "ipython3",
   "version": "3.9.13"
  }
 },
 "nbformat": 4,
 "nbformat_minor": 2
}
